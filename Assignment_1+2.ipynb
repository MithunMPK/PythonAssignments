{
 "cells": [
  {
   "attachments": {},
   "cell_type": "markdown",
   "metadata": {},
   "source": [
    "# Assignment 1 and 2"
   ]
  },
  {
   "attachments": {},
   "cell_type": "markdown",
   "metadata": {},
   "source": [
    "**Please follow the instructions. Do not add new cell! Write your code in designated areas.**"
   ]
  },
  {
   "cell_type": "code",
   "execution_count": 26,
   "metadata": {},
   "outputs": [
    {
     "name": "stdout",
     "output_type": "stream",
     "text": [
      "Assignment 1 & 2: Solutions by Mithun Paulose\n",
      "Local Time: 2023-06-29 09:55:45\n",
      "Computer ID: Mithun-Paulose\n"
     ]
    }
   ],
   "source": [
    "import datetime\n",
    "import socket\n",
    "\n",
    "# Get local time\n",
    "local_time = datetime.datetime.now().strftime(\"%Y-%m-%d %H:%M:%S\")\n",
    "\n",
    "# Get computer ID or hostname\n",
    "computer_id = socket.gethostname()\n",
    "\n",
    "# Print output with local time and computer ID\n",
    "print('Assignment 1 & 2: Solutions by Mithun Paulose') # Please change your name here\n",
    "print('Local Time:', local_time)\n",
    "print('Computer ID:', computer_id)"
   ]
  },
  {
   "attachments": {},
   "cell_type": "markdown",
   "metadata": {},
   "source": [
    "## Exercise 1: String Manipulation"
   ]
  },
  {
   "attachments": {},
   "cell_type": "markdown",
   "metadata": {},
   "source": [
    "Create a function that takes a string parameter representing a crop name and returns the crop name in uppercase letters. Keys: str, upper()"
   ]
  },
  {
   "cell_type": "code",
   "execution_count": 2,
   "metadata": {},
   "outputs": [
    {
     "name": "stdout",
     "output_type": "stream",
     "text": [
      "BARLEY\n"
     ]
    }
   ],
   "source": [
    "## Your code here down\n",
    "def ConvUpperCase(name):\n",
    "    name = name.upper()\n",
    "    return name\n",
    "str = \"Barley\"\n",
    "str = ConvUpperCase(str)\n",
    "print(str)\n",
    "\n",
    "## Your code here up"
   ]
  },
  {
   "attachments": {},
   "cell_type": "markdown",
   "metadata": {},
   "source": [
    "## Exercise 2: Crop Count"
   ]
  },
  {
   "attachments": {},
   "cell_type": "markdown",
   "metadata": {},
   "source": [
    "Create a function that takes a list of crop names (lentil, barly, canola, spring wheat, durum wheat, oats, alfalfa) and returns the total count of crops. Keys: list, leng."
   ]
  },
  {
   "cell_type": "code",
   "execution_count": 3,
   "metadata": {},
   "outputs": [
    {
     "name": "stdout",
     "output_type": "stream",
     "text": [
      "7\n"
     ]
    }
   ],
   "source": [
    "## Your code here down\n",
    "def CountOfCrops(list1):\n",
    "    return len(list1)\n",
    "cropList = ['lentil', 'barley', 'canola', 'spring wheat', 'durum wheat', 'oats', 'alfalfa']\n",
    "count = CountOfCrops(cropList)\n",
    "print(count)\n",
    "\n",
    "## Your code here up"
   ]
  },
  {
   "attachments": {},
   "cell_type": "markdown",
   "metadata": {},
   "source": [
    "## Exercise 3: Temperature Conversion"
   ]
  },
  {
   "attachments": {},
   "cell_type": "markdown",
   "metadata": {},
   "source": [
    "Create a function that takes a temperature in Celsius and converts it to Fahrenheit. Return the converted temperature. Keys:def, find converter."
   ]
  },
  {
   "cell_type": "code",
   "execution_count": 1,
   "metadata": {},
   "outputs": [
    {
     "name": "stdout",
     "output_type": "stream",
     "text": [
      "Temperature in Fahrenheit: 120.0\n"
     ]
    }
   ],
   "source": [
    "## Your code here down\n",
    "def ConvTemp(cel):\n",
    "    fahr = cel*2 + 30\n",
    "    return fahr\n",
    "celcius  = float(input(\"Please enter the temperature in Celcius\"))\n",
    "tempConv = ConvTemp(celcius)\n",
    "print(\"Temperature in Fahrenheit: {temp}\".format(temp = tempConv))\n",
    "\n",
    "## Your code here up"
   ]
  },
  {
   "attachments": {},
   "cell_type": "markdown",
   "metadata": {},
   "source": [
    "## Exercise 4: Crop Harvest"
   ]
  },
  {
   "attachments": {},
   "cell_type": "markdown",
   "metadata": {},
   "source": [
    "Create a function that takes the yield of canola crop (in bushels) and returns a string indicating whether it's a high, moderate, or low yield. Keys: strings, if-else, print()"
   ]
  },
  {
   "cell_type": "code",
   "execution_count": 5,
   "metadata": {},
   "outputs": [
    {
     "name": "stdout",
     "output_type": "stream",
     "text": [
      "Please enter the yield(in bushels per acre)36\n",
      "National Average is ~37 Bushels per acre\n",
      "The yield you have is : moderate\n"
     ]
    }
   ],
   "source": [
    "## Your code here down\n",
    "def HarvestAnalysis(yield1):\n",
    "    if yield1 >= 40:\n",
    "        analysis = \"high!\"\n",
    "    elif yield1 >= 35 and yield1 < 40:\n",
    "        analysis = \"moderate\"\n",
    "    else:\n",
    "        analysis = \"low\"\n",
    "    return analysis\n",
    "int1  = int(input(\"Please enter the yield(in bushels per acre)\"))\n",
    "result = HarvestAnalysis(int1)\n",
    "print(\"National Average is ~37 Bushels per acre\")\n",
    "print(\"The yield you have is : {}\".format(result))\n",
    "## Your code here up"
   ]
  },
  {
   "attachments": {},
   "cell_type": "markdown",
   "metadata": {},
   "source": [
    "## Exercise 5: Crop Average"
   ]
  },
  {
   "attachments": {},
   "cell_type": "markdown",
   "metadata": {},
   "source": [
    "Create a function that takes a list of crop yields (spring wheat) and returns the average yield. Keys: list, average() or arithmetic average."
   ]
  },
  {
   "cell_type": "code",
   "execution_count": 2,
   "metadata": {},
   "outputs": [
    {
     "name": "stdout",
     "output_type": "stream",
     "text": [
      "Please enter the number of inputs: 4\n",
      "Please enter the value no.1, press enter key\n",
      "30\n",
      "Please enter the value no.2, press enter key\n",
      "20\n",
      "Please enter the value no.3, press enter key\n",
      "30\n",
      "Please enter the value no.4, press enter key\n",
      "335\n",
      "Average yield is 103.75\n"
     ]
    }
   ],
   "source": [
    "## Your code here down\n",
    "def Average(list1):\n",
    "    average1 = sum(list1)/len(list1)\n",
    "    return average1\n",
    "\n",
    "count = int(input(\"Please enter the number of inputs: \"))\n",
    "try:\n",
    "    i=1\n",
    "    yieldList = []\n",
    "    while i<=count:\n",
    "        print(\"Please enter the value no.{}, press enter key\".format(i))\n",
    "        yieldList.append(int(input()))\n",
    "        i+=1\n",
    "except:\n",
    "    print(yieldList)\n",
    "average = Average(yieldList)    \n",
    "print(\"Average yield is {}\".format(average))\n",
    "\n",
    "## Your code here up"
   ]
  },
  {
   "attachments": {},
   "cell_type": "markdown",
   "metadata": {},
   "source": [
    "## Exercise 6: Crop Recommendation"
   ]
  },
  {
   "attachments": {},
   "cell_type": "markdown",
   "metadata": {},
   "source": [
    "Create a function that takes the type of soil (brown, dark brown, black) as a parameter and returns a recommended crop (lentil, canola, oats) for that soil type. Keys: dict"
   ]
  },
  {
   "cell_type": "code",
   "execution_count": 2,
   "metadata": {},
   "outputs": [
    {
     "name": "stdout",
     "output_type": "stream",
     "text": [
      "Please enter your soil type(brown, dark brown, black): black\n",
      "We recommend Oats\n"
     ]
    }
   ],
   "source": [
    "## Your code here down\n",
    "def CropRecommendation(soil):\n",
    "    CropSoil = {\"lentils\":\"brown\", \"canola\":\"dark brown\", \"oats\":\"black\"}\n",
    "    return list(CropSoil.keys())[list(CropSoil.values()).index(soil)]\n",
    "input1 = input(\"Please enter your soil type(brown, dark brown, black): \")\n",
    "crop = CropRecommendation(input1.lower())\n",
    "print(\"We recommend {}\".format(crop.capitalize()))\n",
    "      \n",
    "    \n",
    "\n",
    "## Your code here up"
   ]
  },
  {
   "attachments": {},
   "cell_type": "markdown",
   "metadata": {},
   "source": [
    "## Exercise 7: Crop Rotation"
   ]
  },
  {
   "attachments": {},
   "cell_type": "markdown",
   "metadata": {},
   "source": [
    "Create a function that takes a list of crop names (lentil, barly, canola, spring wheat, durum wheat, oats) and rotates the crops by moving the last crop to the beginning of the list. Keys: list and list index"
   ]
  },
  {
   "cell_type": "code",
   "execution_count": 8,
   "metadata": {},
   "outputs": [
    {
     "name": "stdout",
     "output_type": "stream",
     "text": [
      "['lentil', 'barley', 'canola', 'spring wheat', 'durum wheat', 'oats']\n",
      "['oats', 'lentil', 'barley', 'canola', 'spring wheat', 'durum wheat']\n"
     ]
    }
   ],
   "source": [
    "## Your code here down\n",
    "def RotateCrop(cropList):\n",
    "    cropList = [cropList[(i-1)%len(cropList)] for i,x in enumerate(cropList)]\n",
    "    return cropList\n",
    "\n",
    "list1 = [\"lentil\", \"barley\", \"canola\", \"spring wheat\", \"durum wheat\", \"oats\"]\n",
    "print(list1)\n",
    "list1 = RotateCrop(list1)\n",
    "print(list1)\n",
    "\n",
    "## Your code here up"
   ]
  },
  {
   "attachments": {},
   "cell_type": "markdown",
   "metadata": {},
   "source": [
    "# Exercise 8: Rainfall Analysis"
   ]
  },
  {
   "attachments": {},
   "cell_type": "markdown",
   "metadata": {},
   "source": [
    "Create a function that takes a list of rainfall measurements (daily mm in a week) and returns the maximum and minimum rainfall values. Keys: min(), max(), lists"
   ]
  },
  {
   "cell_type": "code",
   "execution_count": 11,
   "metadata": {},
   "outputs": [
    {
     "name": "stdout",
     "output_type": "stream",
     "text": [
      "Maximum Rainfall: 12.5 , Minimum Rainfall: 1.75\n"
     ]
    }
   ],
   "source": [
    "## Your code here down\n",
    "def RainfallAnalysis(list1):\n",
    "    result={\"max\": \"\", \"min\": \"\"}\n",
    "    result.update({\"max\": max(list1)})\n",
    "    result.update({\"min\": min(list1)})\n",
    "    return result\n",
    "\n",
    "rainFall = [12.5, 10, 7.8, 3.6, 1.75, 5.67, 2.87]\n",
    "analysis = RainfallAnalysis(rainFall)\n",
    "print(\"Maximum Rainfall: {0} , Minimum Rainfall: {1}\".format(analysis[\"max\"], analysis[\"min\"]))\n",
    "    \n",
    "## Your code here up"
   ]
  },
  {
   "attachments": {},
   "cell_type": "markdown",
   "metadata": {},
   "source": [
    "## Exercise 9: Pest Control"
   ]
  },
  {
   "attachments": {},
   "cell_type": "markdown",
   "metadata": {},
   "source": [
    "Create a function that takes the count of pests detected in a field and returns a recommendation for pest control based on the count. Please search for pests and pest control measures. Keys: if-else statement"
   ]
  },
  {
   "cell_type": "code",
   "execution_count": 14,
   "metadata": {},
   "outputs": [
    {
     "name": "stdout",
     "output_type": "stream",
     "text": [
      "Please enter the pest load per acre: 3100\n",
      "Please spray your field moderately\n"
     ]
    }
   ],
   "source": [
    "## Your code here down\n",
    "def ControlMeasure(load):\n",
    "    if load>5000:\n",
    "        return \"immediatly\"\n",
    "    elif load>3000:\n",
    "        return \"moderately\"\n",
    "    else:\n",
    "        return \"in low levels\"\n",
    "\n",
    "load1 = int(input(\"Please enter the pest load per acre: \"))\n",
    "result = ControlMeasure(load1)\n",
    "print(\"Please spray your field {}\". format(result))\n",
    "## Your code here up"
   ]
  },
  {
   "attachments": {},
   "cell_type": "markdown",
   "metadata": {},
   "source": [
    "## Exercise 10: Weed Control"
   ]
  },
  {
   "attachments": {},
   "cell_type": "markdown",
   "metadata": {},
   "source": [
    "Create a function that takes a list of weed names and suggests appropriate herbicides for weed control. Keys: For Loops and dictionary."
   ]
  },
  {
   "cell_type": "code",
   "execution_count": 25,
   "metadata": {},
   "outputs": [
    {
     "name": "stdout",
     "output_type": "stream",
     "text": [
      "Here are our recommendations: \n",
      "Leafy spurge : Sulfometuron methyl\n",
      "Knapweed : Aminopyralid\n",
      "Thistle : Clopyralid +2, 4-d\n",
      "Saltcedar : Imazapyr+ glyphosate\n"
     ]
    }
   ],
   "source": [
    "## Your code here down\n",
    "def FindHerbicide(weedList):\n",
    "    remedy = {}\n",
    "    herbicideList = {\n",
    "                     'houndstongue':'picloram',\n",
    "                     'leafy spurge':'sulfometuron methyl',\n",
    "                     'knapweed':'aminopyralid', \n",
    "                     'thistle':'clopyralid +2, 4-D',\n",
    "                     'saltcedar':'imazapyr+ glyphosate', \n",
    "                     'purple loosestrife':'glyphosate'\n",
    "                    }\n",
    "    for weed in weedList:\n",
    "        if weed in herbicideList:\n",
    "            remedy[weed] = herbicideList[weed]\n",
    "    return remedy\n",
    "\n",
    "names = ['leafy spurge', 'knapweed', 'thistle', 'saltcedar']\n",
    "treatment = FindHerbicide(names)\n",
    "print(\"Here are our recommendations: \")\n",
    "for weed in treatment:\n",
    "    print(\"{0} : {1}\".format(weed.capitalize(), treatment[weed].capitalize()))\n",
    "\n",
    "## Your code here up"
   ]
  },
  {
   "cell_type": "code",
   "execution_count": null,
   "metadata": {},
   "outputs": [],
   "source": []
  }
 ],
 "metadata": {
  "kernelspec": {
   "display_name": "Python 3 (ipykernel)",
   "language": "python",
   "name": "python3"
  },
  "language_info": {
   "codemirror_mode": {
    "name": "ipython",
    "version": 3
   },
   "file_extension": ".py",
   "mimetype": "text/x-python",
   "name": "python",
   "nbconvert_exporter": "python",
   "pygments_lexer": "ipython3",
   "version": "3.11.4"
  }
 },
 "nbformat": 4,
 "nbformat_minor": 2
}
